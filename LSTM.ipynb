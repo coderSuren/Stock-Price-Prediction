{
 "cells": [
  {
   "cell_type": "code",
   "execution_count": 75,
   "id": "a2745432",
   "metadata": {},
   "outputs": [],
   "source": [
    "import numpy as np\n",
    "import pandas as pd\n",
    "import matplotlib.pyplot as plt\n",
    "import seaborn as sns\n"
   ]
  },
  {
   "cell_type": "code",
   "execution_count": 76,
   "id": "6089f411",
   "metadata": {},
   "outputs": [],
   "source": [
    "data_files=['Amazon','AMD','Apple','Cisco','Meta','Microsoft','Netflix','Qualcomm','Starbucks','Tesla']"
   ]
  },
  {
   "cell_type": "code",
   "execution_count": 77,
   "id": "b05aefdb",
   "metadata": {},
   "outputs": [],
   "source": [
    "data=[]\n",
    "\n",
    "for i in data_files:\n",
    "    temp=pd.read_csv('Dataset/{}.csv'.format(i),parse_dates=True,index_col=0,usecols=['Date','Close/Last'])\n",
    "    temp.sort_index(ascending=True,inplace=True)\n",
    "    temp.rename(columns={'Close/Last':\"Close\"},inplace=True)\n",
    "    temp.name=i\n",
    "    data.append(temp)"
   ]
  },
  {
   "cell_type": "code",
   "execution_count": 78,
   "id": "ed46c05f",
   "metadata": {},
   "outputs": [],
   "source": [
    "from sklearn.metrics import mean_squared_error,mean_absolute_percentage_error"
   ]
  },
  {
   "cell_type": "code",
   "execution_count": 79,
   "id": "7ea64ea1",
   "metadata": {},
   "outputs": [],
   "source": [
    "df=data[-1]\n"
   ]
  },
  {
   "cell_type": "code",
   "execution_count": 81,
   "id": "3bd0e545",
   "metadata": {},
   "outputs": [],
   "source": [
    "data = df.filter(['Close'])\n",
    "dataset = data.values\n",
    "training_data_len=2487"
   ]
  },
  {
   "cell_type": "code",
   "execution_count": 82,
   "id": "e28b894e",
   "metadata": {},
   "outputs": [],
   "source": [
    "from sklearn.preprocessing import MinMaxScaler\n",
    "scaler = MinMaxScaler(feature_range=(0,1))\n",
    "scaled_data = scaler.fit_transform(dataset)"
   ]
  },
  {
   "cell_type": "code",
   "execution_count": 83,
   "id": "1ab66d8a",
   "metadata": {},
   "outputs": [],
   "source": [
    "\n",
    "train_data = scaled_data[0:training_data_len,:]\n",
    "x_train = []\n",
    "y_train = []\n",
    "\n",
    "for i in range(7, len(train_data)):\n",
    "    x_train.append(train_data[i-7:i, 0])\n",
    "    y_train.append(train_data[i, 0])"
   ]
  },
  {
   "cell_type": "code",
   "execution_count": 84,
   "id": "992508ab",
   "metadata": {},
   "outputs": [],
   "source": [
    "\n",
    "x_train, y_train = np.array(x_train), np.array(y_train)\n",
    "x_train = np.reshape(x_train, (x_train.shape[0], x_train.shape[1], 1))"
   ]
  },
  {
   "cell_type": "code",
   "execution_count": 85,
   "id": "ff78c20d",
   "metadata": {},
   "outputs": [
    {
     "name": "stdout",
     "output_type": "stream",
     "text": [
      "Epoch 1/10\n",
      "2480/2480 [==============================] - 43s 15ms/step - loss: 0.0027\n",
      "Epoch 2/10\n",
      "2480/2480 [==============================] - 41s 17ms/step - loss: 7.2768e-04\n",
      "Epoch 3/10\n",
      "2480/2480 [==============================] - 45s 18ms/step - loss: 6.2583e-04\n",
      "Epoch 4/10\n",
      "2480/2480 [==============================] - 45s 18ms/step - loss: 4.6625e-04\n",
      "Epoch 5/10\n",
      "2480/2480 [==============================] - 45s 18ms/step - loss: 4.0540e-04\n",
      "Epoch 6/10\n",
      "2480/2480 [==============================] - 45s 18ms/step - loss: 3.8990e-04\n",
      "Epoch 7/10\n",
      "2480/2480 [==============================] - 45s 18ms/step - loss: 5.0303e-04\n",
      "Epoch 8/10\n",
      "2480/2480 [==============================] - 45s 18ms/step - loss: 3.6984e-04\n",
      "Epoch 9/10\n",
      "2480/2480 [==============================] - 45s 18ms/step - loss: 3.7237e-04\n",
      "Epoch 10/10\n",
      "2480/2480 [==============================] - 46s 18ms/step - loss: 3.4972e-04\n"
     ]
    },
    {
     "data": {
      "text/plain": [
       "<keras.callbacks.History at 0x26d7d08afd0>"
      ]
     },
     "execution_count": 85,
     "metadata": {},
     "output_type": "execute_result"
    }
   ],
   "source": [
    "from keras.models import Sequential\n",
    "from keras.layers import Dense, LSTM\n",
    "\n",
    "# Build the LSTM model\n",
    "model = Sequential()\n",
    "model.add(LSTM(256, return_sequences=True, input_shape= (x_train.shape[1], 1)))\n",
    "model.add(LSTM(128, return_sequences=False))\n",
    "model.add(Dense(25))\n",
    "model.add(Dense(1))\n",
    "\n",
    "# Compile the model\n",
    "model.compile(optimizer='adam', loss='mean_squared_error')\n",
    "\n",
    "# Train the model\n",
    "model.fit(x_train, y_train, batch_size=1, epochs=10)"
   ]
  },
  {
   "cell_type": "code",
   "execution_count": 86,
   "id": "20d0b06d",
   "metadata": {},
   "outputs": [
    {
     "name": "stdout",
     "output_type": "stream",
     "text": [
      "1/1 [==============================] - 1s 1s/step\n"
     ]
    },
    {
     "data": {
      "text/plain": [
       "10.756696412917888"
      ]
     },
     "execution_count": 86,
     "metadata": {},
     "output_type": "execute_result"
    }
   ],
   "source": [
    "\n",
    "test_data = scaled_data[training_data_len - 7: , :]\n",
    "x_test = []\n",
    "y_test = dataset[training_data_len:, :]\n",
    "for i in range(7, len(test_data)):\n",
    "    x_test.append(test_data[i-7:i, 0])\n",
    "\n",
    "x_test = np.array(x_test)\n",
    "\n",
    "\n",
    "x_test = np.reshape(x_test, (x_test.shape[0], x_test.shape[1], 1 ))\n",
    "\n",
    "predictions = model.predict(x_test)\n",
    "predictions = scaler.inverse_transform(predictions)\n",
    "\n",
    "rmse = np.sqrt(np.mean(((predictions - y_test) ** 2)))\n",
    "rmse"
   ]
  },
  {
   "cell_type": "code",
   "execution_count": 87,
   "id": "55680a2a",
   "metadata": {},
   "outputs": [
    {
     "name": "stderr",
     "output_type": "stream",
     "text": [
      "C:\\Users\\LENOVO~1\\AppData\\Local\\Temp/ipykernel_6116/3344400724.py:3: SettingWithCopyWarning: \n",
      "A value is trying to be set on a copy of a slice from a DataFrame.\n",
      "Try using .loc[row_indexer,col_indexer] = value instead\n",
      "\n",
      "See the caveats in the documentation: https://pandas.pydata.org/pandas-docs/stable/user_guide/indexing.html#returning-a-view-versus-a-copy\n",
      "  valid['Predictions'] = predictions\n"
     ]
    },
    {
     "data": {
      "image/png": "[encoded data removed]",
      "text/plain": [
       "<Figure size 1152x432 with 1 Axes>"
      ]
     },
     "metadata": {
      "needs_background": "light"
     },
     "output_type": "display_data"
    }
   ],
   "source": [
    "train = data[:training_data_len]\n",
    "valid = data[training_data_len:]\n",
    "valid['Predictions'] = predictions\n",
    "# Visualize the data\n",
    "plt.figure(figsize=(16,6))\n",
    "plt.title('Model')\n",
    "plt.xlabel('Date', fontsize=18)\n",
    "plt.ylabel('Close Price USD ($)', fontsize=18)\n",
    "plt.plot(train['Close'])\n",
    "plt.plot(valid[['Close', 'Predictions']])\n",
    "plt.legend(['Train', 'Val', 'Predictions'], loc='lower right')\n",
    "plt.show()"
   ]
  },
  {
   "cell_type": "code",
   "execution_count": 88,
   "id": "224d15d1",
   "metadata": {},
   "outputs": [
    {
     "data": {
      "text/html": [
       "<div>\n",
       "<style scoped>\n",
       "    .dataframe tbody tr th:only-of-type {\n",
       "        vertical-align: middle;\n",
       "    }\n",
       "\n",
       "    .dataframe tbody tr th {\n",
       "        vertical-align: top;\n",
       "    }\n",
       "\n",
       "    .dataframe thead th {\n",
       "        text-align: right;\n",
       "    }\n",
       "</style>\n",
       "<table border=\"1\" class=\"dataframe\">\n",
       "  <thead>\n",
       "    <tr style=\"text-align: right;\">\n",
       "      <th></th>\n",
       "      <th>Close</th>\n",
       "      <th>Predictions</th>\n",
       "    </tr>\n",
       "    <tr>\n",
       "      <th>Date</th>\n",
       "      <th></th>\n",
       "      <th></th>\n",
       "    </tr>\n",
       "  </thead>\n",
       "  <tbody>\n",
       "    <tr>\n",
       "      <th>2022-10-14</th>\n",
       "      <td>204.99</td>\n",
       "      <td>228.982132</td>\n",
       "    </tr>\n",
       "    <tr>\n",
       "      <th>2022-10-17</th>\n",
       "      <td>219.35</td>\n",
       "      <td>212.337021</td>\n",
       "    </tr>\n",
       "    <tr>\n",
       "      <th>2022-10-18</th>\n",
       "      <td>220.19</td>\n",
       "      <td>224.689819</td>\n",
       "    </tr>\n",
       "    <tr>\n",
       "      <th>2022-10-19</th>\n",
       "      <td>222.04</td>\n",
       "      <td>226.507095</td>\n",
       "    </tr>\n",
       "    <tr>\n",
       "      <th>2022-10-20</th>\n",
       "      <td>207.28</td>\n",
       "      <td>226.570099</td>\n",
       "    </tr>\n",
       "    <tr>\n",
       "      <th>2022-10-21</th>\n",
       "      <td>214.44</td>\n",
       "      <td>213.276749</td>\n",
       "    </tr>\n",
       "    <tr>\n",
       "      <th>2022-10-24</th>\n",
       "      <td>211.25</td>\n",
       "      <td>219.865448</td>\n",
       "    </tr>\n",
       "    <tr>\n",
       "      <th>2022-10-25</th>\n",
       "      <td>222.42</td>\n",
       "      <td>217.552048</td>\n",
       "    </tr>\n",
       "    <tr>\n",
       "      <th>2022-10-26</th>\n",
       "      <td>224.64</td>\n",
       "      <td>227.241470</td>\n",
       "    </tr>\n",
       "    <tr>\n",
       "      <th>2022-10-27</th>\n",
       "      <td>225.09</td>\n",
       "      <td>229.753616</td>\n",
       "    </tr>\n",
       "    <tr>\n",
       "      <th>2022-10-28</th>\n",
       "      <td>228.52</td>\n",
       "      <td>229.530029</td>\n",
       "    </tr>\n",
       "    <tr>\n",
       "      <th>2022-10-31</th>\n",
       "      <td>227.54</td>\n",
       "      <td>233.098312</td>\n",
       "    </tr>\n",
       "    <tr>\n",
       "      <th>2022-11-01</th>\n",
       "      <td>227.82</td>\n",
       "      <td>232.880646</td>\n",
       "    </tr>\n",
       "    <tr>\n",
       "      <th>2022-11-02</th>\n",
       "      <td>214.98</td>\n",
       "      <td>233.353622</td>\n",
       "    </tr>\n",
       "    <tr>\n",
       "      <th>2022-11-03</th>\n",
       "      <td>215.31</td>\n",
       "      <td>221.937378</td>\n",
       "    </tr>\n",
       "    <tr>\n",
       "      <th>2022-11-04</th>\n",
       "      <td>207.47</td>\n",
       "      <td>222.168015</td>\n",
       "    </tr>\n",
       "    <tr>\n",
       "      <th>2022-11-07</th>\n",
       "      <td>197.08</td>\n",
       "      <td>215.325745</td>\n",
       "    </tr>\n",
       "    <tr>\n",
       "      <th>2022-11-08</th>\n",
       "      <td>191.30</td>\n",
       "      <td>204.611847</td>\n",
       "    </tr>\n",
       "    <tr>\n",
       "      <th>2022-11-09</th>\n",
       "      <td>177.59</td>\n",
       "      <td>198.811661</td>\n",
       "    </tr>\n",
       "    <tr>\n",
       "      <th>2022-11-10</th>\n",
       "      <td>190.72</td>\n",
       "      <td>185.412918</td>\n",
       "    </tr>\n",
       "    <tr>\n",
       "      <th>2022-11-11</th>\n",
       "      <td>195.97</td>\n",
       "      <td>195.864777</td>\n",
       "    </tr>\n",
       "    <tr>\n",
       "      <th>2022-11-14</th>\n",
       "      <td>190.95</td>\n",
       "      <td>200.728760</td>\n",
       "    </tr>\n",
       "    <tr>\n",
       "      <th>2022-11-15</th>\n",
       "      <td>194.42</td>\n",
       "      <td>193.873550</td>\n",
       "    </tr>\n",
       "    <tr>\n",
       "      <th>2022-11-16</th>\n",
       "      <td>186.92</td>\n",
       "      <td>196.753418</td>\n",
       "    </tr>\n",
       "    <tr>\n",
       "      <th>2022-11-17</th>\n",
       "      <td>183.17</td>\n",
       "      <td>190.369919</td>\n",
       "    </tr>\n",
       "    <tr>\n",
       "      <th>2022-11-18</th>\n",
       "      <td>180.19</td>\n",
       "      <td>186.224442</td>\n",
       "    </tr>\n",
       "    <tr>\n",
       "      <th>2022-11-21</th>\n",
       "      <td>167.87</td>\n",
       "      <td>184.342499</td>\n",
       "    </tr>\n",
       "    <tr>\n",
       "      <th>2022-11-22</th>\n",
       "      <td>169.91</td>\n",
       "      <td>172.627411</td>\n",
       "    </tr>\n",
       "    <tr>\n",
       "      <th>2022-11-23</th>\n",
       "      <td>183.20</td>\n",
       "      <td>173.516357</td>\n",
       "    </tr>\n",
       "    <tr>\n",
       "      <th>2022-11-25</th>\n",
       "      <td>182.86</td>\n",
       "      <td>185.892807</td>\n",
       "    </tr>\n",
       "  </tbody>\n",
       "</table>\n",
       "</div>"
      ],
      "text/plain": [
       "             Close  Predictions\n",
       "Date                           \n",
       "2022-10-14  204.99   228.982132\n",
       "2022-10-17  219.35   212.337021\n",
       "2022-10-18  220.19   224.689819\n",
       "2022-10-19  222.04   226.507095\n",
       "2022-10-20  207.28   226.570099\n",
       "2022-10-21  214.44   213.276749\n",
       "2022-10-24  211.25   219.865448\n",
       "2022-10-25  222.42   217.552048\n",
       "2022-10-26  224.64   227.241470\n",
       "2022-10-27  225.09   229.753616\n",
       "2022-10-28  228.52   229.530029\n",
       "2022-10-31  227.54   233.098312\n",
       "2022-11-01  227.82   232.880646\n",
       "2022-11-02  214.98   233.353622\n",
       "2022-11-03  215.31   221.937378\n",
       "2022-11-04  207.47   222.168015\n",
       "2022-11-07  197.08   215.325745\n",
       "2022-11-08  191.30   204.611847\n",
       "2022-11-09  177.59   198.811661\n",
       "2022-11-10  190.72   185.412918\n",
       "2022-11-11  195.97   195.864777\n",
       "2022-11-14  190.95   200.728760\n",
       "2022-11-15  194.42   193.873550\n",
       "2022-11-16  186.92   196.753418\n",
       "2022-11-17  183.17   190.369919\n",
       "2022-11-18  180.19   186.224442\n",
       "2022-11-21  167.87   184.342499\n",
       "2022-11-22  169.91   172.627411\n",
       "2022-11-23  183.20   173.516357\n",
       "2022-11-25  182.86   185.892807"
      ]
     },
     "execution_count": 88,
     "metadata": {},
     "output_type": "execute_result"
    }
   ],
   "source": [
    "valid"
   ]
  },
  {
   "cell_type": "code",
   "execution_count": 89,
   "id": "6e03ce38",
   "metadata": {},
   "outputs": [
    {
     "data": {
      "text/plain": [
       "<AxesSubplot:xlabel='Date'>"
      ]
     },
     "execution_count": 89,
     "metadata": {},
     "output_type": "execute_result"
    },
    {
     "data": {
      "image/png": "[encoded data removed]",
      "text/plain": [
       "<Figure size 432x288 with 1 Axes>"
      ]
     },
     "metadata": {
      "needs_background": "light"
     },
     "output_type": "display_data"
    }
   ],
   "source": [
    "valid['Predictions'].plot()\n",
    "valid['Close'].plot()"
   ]
  },
  {
   "cell_type": "code",
   "execution_count": 90,
   "id": "e61d69b5",
   "metadata": {},
   "outputs": [],
   "source": [
    "mse=mean_squared_error(valid['Close'],valid['Predictions'])"
   ]
  },
  {
   "cell_type": "code",
   "execution_count": 91,
   "id": "2ecbb5d9",
   "metadata": {},
   "outputs": [],
   "source": [
    "mape=mean_absolute_percentage_error(valid['Close'],valid['Predictions'])"
   ]
  },
  {
   "cell_type": "code",
   "execution_count": 92,
   "id": "b624d87f",
   "metadata": {},
   "outputs": [
    {
     "data": {
      "text/plain": [
       "0.043139778279756825"
      ]
     },
     "execution_count": 92,
     "metadata": {},
     "output_type": "execute_result"
    }
   ],
   "source": [
    "mape"
   ]
  },
  {
   "cell_type": "code",
   "execution_count": 93,
   "id": "fb748f95",
   "metadata": {},
   "outputs": [
    {
     "data": {
      "text/plain": [
       "115.70651771968056"
      ]
     },
     "execution_count": 93,
     "metadata": {},
     "output_type": "execute_result"
    }
   ],
   "source": [
    "mse"
   ]
  },
  {
   "cell_type": "code",
   "execution_count": null,
   "id": "b5109654",
   "metadata": {},
   "outputs": [],
   "source": []
  }
 ],
 "metadata": {
  "kernelspec": {
   "display_name": "Python 3 (ipykernel)",
   "language": "python",
   "name": "python3"
  },
  "language_info": {
   "codemirror_mode": {
    "name": "ipython",
    "version": 3
   },
   "file_extension": ".py",
   "mimetype": "text/x-python",
   "name": "python",
   "nbconvert_exporter": "python",
   "pygments_lexer": "ipython3",
   "version": "3.9.7"
  }
 },
 "nbformat": 4,
 "nbformat_minor": 5
}
